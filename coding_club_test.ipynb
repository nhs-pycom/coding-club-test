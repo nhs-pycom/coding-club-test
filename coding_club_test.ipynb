{
  "nbformat": 4,
  "nbformat_minor": 0,
  "metadata": {
    "colab": {
      "name": "coding-club-test.ipynb",
      "provenance": [],
      "collapsed_sections": [],
      "authorship_tag": "ABX9TyO5GATIQkGA/XZ2JA087cj2",
      "include_colab_link": true
    },
    "kernelspec": {
      "name": "python3",
      "display_name": "Python 3"
    }
  },
  "cells": [
    {
      "cell_type": "markdown",
      "metadata": {
        "id": "view-in-github",
        "colab_type": "text"
      },
      "source": [
        "<a href=\"https://colab.research.google.com/github/nhs-pycom/coding-club-test/blob/main/coding_club_test.ipynb\" target=\"_parent\"><img src=\"https://colab.research.google.com/assets/colab-badge.svg\" alt=\"Open In Colab\"/></a>"
      ]
    },
    {
      "cell_type": "markdown",
      "metadata": {
        "id": "3MDQtRtTPGNU"
      },
      "source": [
        "- test 1 - pull data from github url\r\n",
        "- test 2 - mount github to drive\r\n",
        "- test 3 - make new branch and commit to repo\r\n",
        "- test 4 - no google account\r\n",
        "- test 5 - no github account"
      ]
    },
    {
      "cell_type": "markdown",
      "metadata": {
        "id": "eBnQjXf9QFP-"
      },
      "source": [
        "## Open files from GitHub\r\n",
        "To open a file from GitHub, you can clone the repo or fetch the file directly.\r\n",
        "\r\n",
        "If you are trying to access files from a private repo, you must use a GitHub access token."
      ]
    },
    {
      "cell_type": "code",
      "metadata": {
        "id": "JwZDGy9eQA1X"
      },
      "source": [
        "# Clone the entire repo.\n",
        "!git clone -l -s git://github.com/jakevdp/PythonDataScienceHandbook.git cloned-repo\n",
        "%cd cloned-repo\n",
        "!ls"
      ],
      "execution_count": null,
      "outputs": []
    },
    {
      "cell_type": "code",
      "metadata": {
        "id": "GhORduIRQA1Y"
      },
      "source": [
        "# Fetch a single <1MB file using the raw GitHub URL.\n",
        "!curl --remote-name \\\n",
        "     -H 'Accept: application/vnd.github.v3.raw' \\\n",
        "     --location https://api.github.com/repos/jakevdp/PythonDataScienceHandbook/contents/notebooks/data/california_cities.csv"
      ],
      "execution_count": null,
      "outputs": []
    },
    {
      "cell_type": "markdown",
      "metadata": {
        "id": "56SwaN6MP5CV"
      },
      "source": [
        "## Open files from local computer\r\n",
        "`files.download` will invoke a browser download of the file to your local computer."
      ]
    },
    {
      "cell_type": "code",
      "metadata": {
        "id": "pXR1aNSZP2u-"
      },
      "source": [
        "from google.colab import files\r\n",
        "\r\n",
        "with open('example.txt', 'w') as f:\r\n",
        "  f.write('some content')\r\n",
        "\r\n",
        "files.download('example.txt')"
      ],
      "execution_count": null,
      "outputs": []
    }
  ]
}