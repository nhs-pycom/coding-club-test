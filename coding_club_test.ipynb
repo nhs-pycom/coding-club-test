{
  "nbformat": 4,
  "nbformat_minor": 0,
  "metadata": {
    "colab": {
      "name": "coding-club-test.ipynb",
      "provenance": [],
      "collapsed_sections": [],
      "authorship_tag": "ABX9TyMriwY0q6oy5YDbAL0ISTqv",
      "include_colab_link": true
    },
    "kernelspec": {
      "name": "python3",
      "display_name": "Python 3"
    }
  },
  "cells": [
    {
      "cell_type": "markdown",
      "metadata": {
        "id": "view-in-github",
        "colab_type": "text"
      },
      "source": [
        "<a href=\"https://colab.research.google.com/github/nhs-pycom/coding-club-test/blob/main/coding_club_test.ipynb\" target=\"_parent\"><img src=\"https://colab.research.google.com/assets/colab-badge.svg\" alt=\"Open In Colab\"/></a>"
      ]
    },
    {
      "cell_type": "markdown",
      "metadata": {
        "id": "3MDQtRtTPGNU"
      },
      "source": [
        "- test 1 - pull data from github url\r\n",
        "- test 2 - mount github to drive\r\n",
        "- test 3 - make new branch and commit to repo\r\n",
        "- test 4 - no google account\r\n",
        "- test 5 - no github account"
      ]
    },
    {
      "cell_type": "markdown",
      "metadata": {
        "id": "eBnQjXf9QFP-"
      },
      "source": [
        "## Open files from GitHub\r\n",
        "To open a file from GitHub, you can clone the repo or fetch the file directly.\r\n",
        "\r\n",
        "If you are trying to access files from a private repo, you must use a GitHub access token."
      ]
    },
    {
      "cell_type": "code",
      "metadata": {
        "id": "JwZDGy9eQA1X"
      },
      "source": [
        "# Clone the entire repo.\n",
        "!git clone -l -s git://github.com/jakevdp/PythonDataScienceHandbook.git cloned-repo\n",
        "%cd cloned-repo\n",
        "!ls"
      ],
      "execution_count": null,
      "outputs": []
    },
    {
      "cell_type": "code",
      "metadata": {
        "id": "GhORduIRQA1Y"
      },
      "source": [
        "# Fetch a single <1MB file using the raw GitHub URL.\n",
        "!curl --remote-name \\\n",
        "     -H 'Accept: application/vnd.github.v3.raw' \\\n",
        "     --location https://api.github.com/repos/jakevdp/PythonDataScienceHandbook/contents/notebooks/data/california_cities.csv"
      ],
      "execution_count": null,
      "outputs": []
    },
    {
      "cell_type": "code",
      "metadata": {
        "id": "T974rqplSykC",
        "outputId": "ba3eb158-5998-43e1-d904-a509302e15bd",
        "colab": {
          "base_uri": "https://localhost:8080/",
          "height": 200
        }
      },
      "source": [
        "import pandas as pd\r\n",
        "url = 'https://raw.githubusercontent.com/hxchua/datadoubleconfirm/master/datasets/arrivals2018.csv'\r\n",
        "df = pd.read_csv(url, error_bad_lines=False)\r\n",
        "df.head()"
      ],
      "execution_count": 1,
      "outputs": [
        {
          "output_type": "execute_result",
          "data": {
            "text/html": [
              "<div>\n",
              "<style scoped>\n",
              "    .dataframe tbody tr th:only-of-type {\n",
              "        vertical-align: middle;\n",
              "    }\n",
              "\n",
              "    .dataframe tbody tr th {\n",
              "        vertical-align: top;\n",
              "    }\n",
              "\n",
              "    .dataframe thead th {\n",
              "        text-align: right;\n",
              "    }\n",
              "</style>\n",
              "<table border=\"1\" class=\"dataframe\">\n",
              "  <thead>\n",
              "    <tr style=\"text-align: right;\">\n",
              "      <th></th>\n",
              "      <th>rank</th>\n",
              "      <th>city</th>\n",
              "      <th>country</th>\n",
              "      <th>arrivals_2017</th>\n",
              "      <th>arrivals_2018</th>\n",
              "    </tr>\n",
              "  </thead>\n",
              "  <tbody>\n",
              "    <tr>\n",
              "      <th>0</th>\n",
              "      <td>1</td>\n",
              "      <td>Hong Kong</td>\n",
              "      <td>Hong Kong</td>\n",
              "      <td>27880300</td>\n",
              "      <td>29827200</td>\n",
              "    </tr>\n",
              "    <tr>\n",
              "      <th>1</th>\n",
              "      <td>2</td>\n",
              "      <td>Bangkok</td>\n",
              "      <td>Thailand</td>\n",
              "      <td>22453900</td>\n",
              "      <td>23688800</td>\n",
              "    </tr>\n",
              "    <tr>\n",
              "      <th>2</th>\n",
              "      <td>3</td>\n",
              "      <td>London</td>\n",
              "      <td>England</td>\n",
              "      <td>19827800</td>\n",
              "      <td>20715900</td>\n",
              "    </tr>\n",
              "    <tr>\n",
              "      <th>3</th>\n",
              "      <td>4</td>\n",
              "      <td>Singapore</td>\n",
              "      <td>Singapore</td>\n",
              "      <td>17618800</td>\n",
              "      <td>18551200</td>\n",
              "    </tr>\n",
              "    <tr>\n",
              "      <th>4</th>\n",
              "      <td>5</td>\n",
              "      <td>Macau</td>\n",
              "      <td>Macau</td>\n",
              "      <td>17337200</td>\n",
              "      <td>18931400</td>\n",
              "    </tr>\n",
              "  </tbody>\n",
              "</table>\n",
              "</div>"
            ],
            "text/plain": [
              "   rank       city    country  arrivals_2017  arrivals_2018\n",
              "0     1  Hong Kong  Hong Kong       27880300       29827200\n",
              "1     2    Bangkok   Thailand       22453900       23688800\n",
              "2     3     London    England       19827800       20715900\n",
              "3     4  Singapore  Singapore       17618800       18551200\n",
              "4     5      Macau      Macau       17337200       18931400"
            ]
          },
          "metadata": {
            "tags": []
          },
          "execution_count": 1
        }
      ]
    },
    {
      "cell_type": "markdown",
      "metadata": {
        "id": "56SwaN6MP5CV"
      },
      "source": [
        "## Open files from local computer\r\n",
        "`files.download` will invoke a browser download of the file to your local computer."
      ]
    },
    {
      "cell_type": "code",
      "metadata": {
        "id": "pXR1aNSZP2u-"
      },
      "source": [
        "from google.colab import files\r\n",
        "\r\n",
        "with open('example.txt', 'w') as f:\r\n",
        "  f.write('some content')\r\n",
        "\r\n",
        "files.download('example.txt')"
      ],
      "execution_count": null,
      "outputs": []
    }
  ]
}